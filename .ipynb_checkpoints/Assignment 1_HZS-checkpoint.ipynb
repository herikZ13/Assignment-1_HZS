{
 "cells": [
  {
   "cell_type": "markdown",
   "id": "9fef5136-9635-41f0-a897-778f86106b65",
   "metadata": {},
   "source": [
    "# Assignment 1\n",
    "\n",
    "**Name:** Heriberto Zapata Solano\n",
    "\n",
    "**e-mail:** heriberto.zapata7939@alumnos.udg.mx"
   ]
  },
  {
   "cell_type": "markdown",
   "id": "6a50287f-3ecb-4661-9ca3-5569f813138d",
   "metadata": {},
   "source": [
    "# Modules\n",
    "Here are all the libraries used during this activity\n"
   ]
  },
  {
   "cell_type": "code",
   "execution_count": 10,
   "id": "4bb8341e-3fee-4aa3-9363-3b916680c269",
   "metadata": {},
   "outputs": [],
   "source": [
    "import numpy as np\n",
    "from scipy.stats import cauchy, levy_stable\n",
    "import matplotlib.pyplot as plt\n",
    "import pandas as pd\n",
    "import plotly.graph_objects as go\n",
    "import plotly.express as px\n"
   ]
  },
  {
   "cell_type": "markdown",
   "id": "86e19f4d-0a11-468c-b3e2-45a7e750a875",
   "metadata": {},
   "source": [
    "# Activity 1: Correlated Random Walk - 1 Trajectory\n",
    "- Select rotations from a Cauchy distribution (scipy).\n",
    "- Implement usign Vec2d class.\n",
    "- Keep trajectory in a numpy array\n",
    "- Visualize trajectory using plotly - 2D projection"
   ]
  },
  {
   "cell_type": "markdown",
   "id": "036af4c7-bc61-4c87-b221-beef7ccc8d27",
   "metadata": {},
   "source": [
    "We define the 2D vector class"
   ]
  },
  {
   "cell_type": "code",
   "execution_count": 11,
   "id": "b13aeeac-1393-427a-a9ed-e07069214ec6",
   "metadata": {},
   "outputs": [],
   "source": [
    "class Vec2d:\n",
    "    def __init__(self, x, y):\n",
    "        self.x = x\n",
    "        self.y = y\n",
    "\n",
    "    def __add__(self, other):\n",
    "        return Vec2d(self.x + other.x, self.y + other.y)\n",
    "\n",
    "    def __mul__(self, scalar):\n",
    "        return Vec2d(self.x * scalar, self.y * scalar)\n",
    "\n",
    "    def __repr__(self):\n",
    "        return f\"Vec2d({self.x}, {self.y})\""
   ]
  },
  {
   "cell_type": "markdown",
   "id": "ce54a55b-2398-4e67-92cb-3b4a2c70d55e",
   "metadata": {},
   "source": [
    "The Cauchy distribution, named after Augustin Cauchy, is a continuous probability distribution. It is also known, especially among physicists, as the Lorentz distribution (after Hendrik Lorentz), Cauchy–Lorentz distribution, Lorentz(ian) function, or Breit–Wigner distribution.\n",
    "The Cauchy distribution $f(x;x_0, y)$ s the distribution of the x-intercept of a ray issuing from $(x_0, y)$ with a uniformly distributed angle. It is also the distribution of the ratio of two independent normally distributed random variables with mean zero."
   ]
  },
  {
   "cell_type": "code",
   "execution_count": 12,
   "id": "2f7c689f-1940-4129-9555-64cc629e9dd8",
   "metadata": {},
   "outputs": [],
   "source": [
    "steps = 100\n",
    "rotations = cauchy.rvs(loc=0, scale=0.7, size=steps)\n",
    "\n",
    "traj = np.zeros((steps, 2))\n",
    "traj[0] = [0, 0]"
   ]
  },
  {
   "cell_type": "markdown",
   "id": "1bc0b477-aba5-4e0a-ad01-72d4f797ca1c",
   "metadata": {},
   "source": [
    "## How can we describe this mathematically?\n",
    "\n",
    "The simplest random walk to understand is a 1-dimensional walk. Suppose that the black dot below is sitting on a number line. The black dot starts in the center.\n",
    "\n",
    "Then, it takes a step, either forward or backward, with equal probability. It keeps taking steps either forward or backward each time. Let's call the 1st step a1, the second step a2, the third step a3 and so on. Each \"a\" is either equal to +1 (if the step is forward) or -1 (if the step is backward). Now we aare gonna do it in a 2- dimensional walk, implementing the correlated random walk using the Vec2d class\n"
   ]
  },
  {
   "cell_type": "code",
   "execution_count": 13,
   "id": "866b80b5-50bd-4b9e-8cb2-30548868a826",
   "metadata": {},
   "outputs": [],
   "source": [
    "for i in range(1, steps):\n",
    "    rotation = rotations[i-1]\n",
    "    pre_pos = Vec2d(*traj[i-1])\n",
    "    nw_pos = pre_pos + Vec2d(np.cos(rotation), np.sin(rotation))\n",
    "    traj[i] = [nw_pos.x, nw_pos.y]"
   ]
  },
  {
   "cell_type": "markdown",
   "id": "06c9e5f5-4ef3-4403-9547-0fcfbf2d2f47",
   "metadata": {},
   "source": [
    "**Visualizing using Plotly**"
   ]
  },
  {
   "cell_type": "code",
   "execution_count": 14,
   "id": "a4bacea2-dabc-4cf1-a986-f998c8ddccb4",
   "metadata": {},
   "outputs": [
    {
     "data": {
      "application/vnd.plotly.v1+json": {
       "config": {
        "plotlyServerURL": "https://plot.ly"
       },
       "data": [
        {
         "hovertemplate": "x=%{x}<br>y=%{y}<extra></extra>",
         "legendgroup": "",
         "line": {
          "color": "#636efa",
          "dash": "solid"
         },
         "marker": {
          "symbol": "circle"
         },
         "mode": "lines",
         "name": "",
         "orientation": "v",
         "showlegend": false,
         "type": "scatter",
         "x": [
          0,
          0.5588616072296573,
          1.2194737387057606,
          2.215941717110299,
          2.9185528416269975,
          3.8852518302104673,
          4.467863796617396,
          4.723890591223338,
          5.5286087487555715,
          6.525096345152049,
          5.6943008556332755,
          6.466130121168835,
          7.3812598561137355,
          7.710249620238564,
          8.70762054578582,
          9.380037158253517,
          10.377054491395597,
          10.260025086365122,
          10.628620022253347,
          11.400702577105825,
          12.382275346306175,
          13.286546738460004,
          14.281787310834604,
          13.764659558913833,
          14.724125121991074,
          15.67077355833033,
          16.666285271034766,
          16.878914634072974,
          17.873329159709037,
          16.922450810149698,
          15.925799335494652,
          16.649114163003464,
          17.649037438502685,
          17.505489433205263,
          16.780629925641904,
          17.624305333034357,
          18.474892140568596,
          19.29822528353294,
          20.292448871783332,
          19.945291361343646,
          20.945129674824113,
          21.94114804982468,
          21.680241193675332,
          21.111015981652,
          22.11094843481012,
          22.301228515187397,
          23.06892893386094,
          24.06872652909679,
          24.89723866432858,
          25.726715929263822,
          26.42522115514295,
          27.175903684238616,
          28.162950269416232,
          29.13381682609855,
          30.12886160590158,
          29.553028812649575,
          30.51430010709448,
          31.493382044575103,
          30.866666410104237,
          31.789104527120234,
          32.746998116774606,
          33.74618356694452,
          34.28002126775369,
          35.176669751372614,
          36.08782212762976,
          37.071023063242095,
          38.06840678860385,
          37.86964386285648,
          38.79238528874921,
          39.649631495256145,
          38.941381096913204,
          39.5556219734304,
          40.55063169431937,
          41.03064640471654,
          41.24497619428851,
          40.87397028859186,
          41.80657656508179,
          42.25290016051002,
          43.230239372118774,
          44.21868909345796,
          43.82626916798941,
          44.68728896081136,
          45.665636839831485,
          46.66316088800627,
          47.56340383072752,
          47.22345791264632,
          48.16579520375549,
          49.023647335664165,
          50.01624406761222,
          49.93930811006103,
          50.76123672006404,
          51.746914178377224,
          52.60390940833073,
          53.60319804407097,
          54.59439668813291,
          54.03826280755963,
          53.48202834940803,
          54.39057959497338,
          55.389214027587165,
          56.09801843022482
         ],
         "xaxis": "x",
         "y": [
          0,
          0.8292609384052069,
          1.5799883268403163,
          1.4960147118510119,
          0.7844406765564542,
          1.0403568063171558,
          0.22760635470273094,
          1.1942760399850445,
          1.7879330848669581,
          1.8716735782257305,
          2.4282513846421034,
          3.0640812241926234,
          3.4672407065562107,
          2.522907219327737,
          2.5953726377906805,
          1.855199753068829,
          1.932377712450082,
          2.925506162530037,
          3.855096272867682,
          3.2195740242465414,
          3.0284853046308706,
          2.6015271692918454,
          2.6989756331046575,
          3.554883857269707,
          3.2730579655051786,
          3.5953260805529457,
          3.500687664102337,
          2.523554738664878,
          2.629099758462144,
          2.9386645567505,
          3.020431530938869,
          3.7109499306255804,
          3.7233371464107954,
          4.712980501450949,
          4.0240837789337025,
          3.48723016111859,
          2.961395507592681,
          3.52895390608261,
          3.636282637401474,
          4.5740894740929745,
          4.592071323178549,
          4.502923150672139,
          5.46828712991223,
          4.646105484533917,
          4.657728269104794,
          3.67599842285807,
          3.035189506590146,
          3.0150706457722234,
          2.455099537791052,
          1.8965590585457694,
          2.6121640120079057,
          1.9515009053411752,
          1.791066997799136,
          2.0306878005601305,
          2.130115594394353,
          2.947683080425686,
          2.6720792007791623,
          2.468612840662331,
          1.6893647970268157,
          1.3032198497906962,
          1.5903432917090785,
          1.6306971783714295,
          0.7851102170275505,
          1.227853366973291,
          1.639922957262311,
          1.4573964654562797,
          1.3851074318239172,
          2.36515503237623,
          2.7505746231360306,
          3.2654813539421736,
          3.9714426653800343,
          3.182324077577548,
          3.2821021079071238,
          2.404841668925449,
          1.4280803156246367,
          0.4994498089438537,
          0.8603452689479871,
          1.7552169067620458,
          1.966896063629189,
          2.1184452252384975,
          1.1986590532967474,
          1.7072304999675696,
          1.5002632860982834,
          1.4299370938723506,
          0.9945491701990276,
          0.054104183620904966,
          -0.28056046910629767,
          0.23333613506592626,
          0.3547928258080995,
          -0.6422432108704554,
          -1.2118337305058446,
          -1.043192252294626,
          -1.5585165927220312,
          -1.520804227635788,
          -1.3884212679703851,
          -2.2195139865514757,
          -1.3884885792594979,
          -0.9707151548035458,
          -1.0229575705032328,
          -0.31755249623633774
         ],
         "yaxis": "y"
        }
       ],
       "layout": {
        "autosize": true,
        "legend": {
         "tracegroupgap": 0
        },
        "margin": {
         "t": 60
        },
        "template": {
         "data": {
          "bar": [
           {
            "error_x": {
             "color": "#2a3f5f"
            },
            "error_y": {
             "color": "#2a3f5f"
            },
            "marker": {
             "line": {
              "color": "#E5ECF6",
              "width": 0.5
             },
             "pattern": {
              "fillmode": "overlay",
              "size": 10,
              "solidity": 0.2
             }
            },
            "type": "bar"
           }
          ],
          "barpolar": [
           {
            "marker": {
             "line": {
              "color": "#E5ECF6",
              "width": 0.5
             },
             "pattern": {
              "fillmode": "overlay",
              "size": 10,
              "solidity": 0.2
             }
            },
            "type": "barpolar"
           }
          ],
          "carpet": [
           {
            "aaxis": {
             "endlinecolor": "#2a3f5f",
             "gridcolor": "white",
             "linecolor": "white",
             "minorgridcolor": "white",
             "startlinecolor": "#2a3f5f"
            },
            "baxis": {
             "endlinecolor": "#2a3f5f",
             "gridcolor": "white",
             "linecolor": "white",
             "minorgridcolor": "white",
             "startlinecolor": "#2a3f5f"
            },
            "type": "carpet"
           }
          ],
          "choropleth": [
           {
            "colorbar": {
             "outlinewidth": 0,
             "ticks": ""
            },
            "type": "choropleth"
           }
          ],
          "contour": [
           {
            "colorbar": {
             "outlinewidth": 0,
             "ticks": ""
            },
            "colorscale": [
             [
              0,
              "#0d0887"
             ],
             [
              0.1111111111111111,
              "#46039f"
             ],
             [
              0.2222222222222222,
              "#7201a8"
             ],
             [
              0.3333333333333333,
              "#9c179e"
             ],
             [
              0.4444444444444444,
              "#bd3786"
             ],
             [
              0.5555555555555556,
              "#d8576b"
             ],
             [
              0.6666666666666666,
              "#ed7953"
             ],
             [
              0.7777777777777778,
              "#fb9f3a"
             ],
             [
              0.8888888888888888,
              "#fdca26"
             ],
             [
              1,
              "#f0f921"
             ]
            ],
            "type": "contour"
           }
          ],
          "contourcarpet": [
           {
            "colorbar": {
             "outlinewidth": 0,
             "ticks": ""
            },
            "type": "contourcarpet"
           }
          ],
          "heatmap": [
           {
            "colorbar": {
             "outlinewidth": 0,
             "ticks": ""
            },
            "colorscale": [
             [
              0,
              "#0d0887"
             ],
             [
              0.1111111111111111,
              "#46039f"
             ],
             [
              0.2222222222222222,
              "#7201a8"
             ],
             [
              0.3333333333333333,
              "#9c179e"
             ],
             [
              0.4444444444444444,
              "#bd3786"
             ],
             [
              0.5555555555555556,
              "#d8576b"
             ],
             [
              0.6666666666666666,
              "#ed7953"
             ],
             [
              0.7777777777777778,
              "#fb9f3a"
             ],
             [
              0.8888888888888888,
              "#fdca26"
             ],
             [
              1,
              "#f0f921"
             ]
            ],
            "type": "heatmap"
           }
          ],
          "heatmapgl": [
           {
            "colorbar": {
             "outlinewidth": 0,
             "ticks": ""
            },
            "colorscale": [
             [
              0,
              "#0d0887"
             ],
             [
              0.1111111111111111,
              "#46039f"
             ],
             [
              0.2222222222222222,
              "#7201a8"
             ],
             [
              0.3333333333333333,
              "#9c179e"
             ],
             [
              0.4444444444444444,
              "#bd3786"
             ],
             [
              0.5555555555555556,
              "#d8576b"
             ],
             [
              0.6666666666666666,
              "#ed7953"
             ],
             [
              0.7777777777777778,
              "#fb9f3a"
             ],
             [
              0.8888888888888888,
              "#fdca26"
             ],
             [
              1,
              "#f0f921"
             ]
            ],
            "type": "heatmapgl"
           }
          ],
          "histogram": [
           {
            "marker": {
             "pattern": {
              "fillmode": "overlay",
              "size": 10,
              "solidity": 0.2
             }
            },
            "type": "histogram"
           }
          ],
          "histogram2d": [
           {
            "colorbar": {
             "outlinewidth": 0,
             "ticks": ""
            },
            "colorscale": [
             [
              0,
              "#0d0887"
             ],
             [
              0.1111111111111111,
              "#46039f"
             ],
             [
              0.2222222222222222,
              "#7201a8"
             ],
             [
              0.3333333333333333,
              "#9c179e"
             ],
             [
              0.4444444444444444,
              "#bd3786"
             ],
             [
              0.5555555555555556,
              "#d8576b"
             ],
             [
              0.6666666666666666,
              "#ed7953"
             ],
             [
              0.7777777777777778,
              "#fb9f3a"
             ],
             [
              0.8888888888888888,
              "#fdca26"
             ],
             [
              1,
              "#f0f921"
             ]
            ],
            "type": "histogram2d"
           }
          ],
          "histogram2dcontour": [
           {
            "colorbar": {
             "outlinewidth": 0,
             "ticks": ""
            },
            "colorscale": [
             [
              0,
              "#0d0887"
             ],
             [
              0.1111111111111111,
              "#46039f"
             ],
             [
              0.2222222222222222,
              "#7201a8"
             ],
             [
              0.3333333333333333,
              "#9c179e"
             ],
             [
              0.4444444444444444,
              "#bd3786"
             ],
             [
              0.5555555555555556,
              "#d8576b"
             ],
             [
              0.6666666666666666,
              "#ed7953"
             ],
             [
              0.7777777777777778,
              "#fb9f3a"
             ],
             [
              0.8888888888888888,
              "#fdca26"
             ],
             [
              1,
              "#f0f921"
             ]
            ],
            "type": "histogram2dcontour"
           }
          ],
          "mesh3d": [
           {
            "colorbar": {
             "outlinewidth": 0,
             "ticks": ""
            },
            "type": "mesh3d"
           }
          ],
          "parcoords": [
           {
            "line": {
             "colorbar": {
              "outlinewidth": 0,
              "ticks": ""
             }
            },
            "type": "parcoords"
           }
          ],
          "pie": [
           {
            "automargin": true,
            "type": "pie"
           }
          ],
          "scatter": [
           {
            "fillpattern": {
             "fillmode": "overlay",
             "size": 10,
             "solidity": 0.2
            },
            "type": "scatter"
           }
          ],
          "scatter3d": [
           {
            "line": {
             "colorbar": {
              "outlinewidth": 0,
              "ticks": ""
             }
            },
            "marker": {
             "colorbar": {
              "outlinewidth": 0,
              "ticks": ""
             }
            },
            "type": "scatter3d"
           }
          ],
          "scattercarpet": [
           {
            "marker": {
             "colorbar": {
              "outlinewidth": 0,
              "ticks": ""
             }
            },
            "type": "scattercarpet"
           }
          ],
          "scattergeo": [
           {
            "marker": {
             "colorbar": {
              "outlinewidth": 0,
              "ticks": ""
             }
            },
            "type": "scattergeo"
           }
          ],
          "scattergl": [
           {
            "marker": {
             "colorbar": {
              "outlinewidth": 0,
              "ticks": ""
             }
            },
            "type": "scattergl"
           }
          ],
          "scattermapbox": [
           {
            "marker": {
             "colorbar": {
              "outlinewidth": 0,
              "ticks": ""
             }
            },
            "type": "scattermapbox"
           }
          ],
          "scatterpolar": [
           {
            "marker": {
             "colorbar": {
              "outlinewidth": 0,
              "ticks": ""
             }
            },
            "type": "scatterpolar"
           }
          ],
          "scatterpolargl": [
           {
            "marker": {
             "colorbar": {
              "outlinewidth": 0,
              "ticks": ""
             }
            },
            "type": "scatterpolargl"
           }
          ],
          "scatterternary": [
           {
            "marker": {
             "colorbar": {
              "outlinewidth": 0,
              "ticks": ""
             }
            },
            "type": "scatterternary"
           }
          ],
          "surface": [
           {
            "colorbar": {
             "outlinewidth": 0,
             "ticks": ""
            },
            "colorscale": [
             [
              0,
              "#0d0887"
             ],
             [
              0.1111111111111111,
              "#46039f"
             ],
             [
              0.2222222222222222,
              "#7201a8"
             ],
             [
              0.3333333333333333,
              "#9c179e"
             ],
             [
              0.4444444444444444,
              "#bd3786"
             ],
             [
              0.5555555555555556,
              "#d8576b"
             ],
             [
              0.6666666666666666,
              "#ed7953"
             ],
             [
              0.7777777777777778,
              "#fb9f3a"
             ],
             [
              0.8888888888888888,
              "#fdca26"
             ],
             [
              1,
              "#f0f921"
             ]
            ],
            "type": "surface"
           }
          ],
          "table": [
           {
            "cells": {
             "fill": {
              "color": "#EBF0F8"
             },
             "line": {
              "color": "white"
             }
            },
            "header": {
             "fill": {
              "color": "#C8D4E3"
             },
             "line": {
              "color": "white"
             }
            },
            "type": "table"
           }
          ]
         },
         "layout": {
          "annotationdefaults": {
           "arrowcolor": "#2a3f5f",
           "arrowhead": 0,
           "arrowwidth": 1
          },
          "autotypenumbers": "strict",
          "coloraxis": {
           "colorbar": {
            "outlinewidth": 0,
            "ticks": ""
           }
          },
          "colorscale": {
           "diverging": [
            [
             0,
             "#8e0152"
            ],
            [
             0.1,
             "#c51b7d"
            ],
            [
             0.2,
             "#de77ae"
            ],
            [
             0.3,
             "#f1b6da"
            ],
            [
             0.4,
             "#fde0ef"
            ],
            [
             0.5,
             "#f7f7f7"
            ],
            [
             0.6,
             "#e6f5d0"
            ],
            [
             0.7,
             "#b8e186"
            ],
            [
             0.8,
             "#7fbc41"
            ],
            [
             0.9,
             "#4d9221"
            ],
            [
             1,
             "#276419"
            ]
           ],
           "sequential": [
            [
             0,
             "#0d0887"
            ],
            [
             0.1111111111111111,
             "#46039f"
            ],
            [
             0.2222222222222222,
             "#7201a8"
            ],
            [
             0.3333333333333333,
             "#9c179e"
            ],
            [
             0.4444444444444444,
             "#bd3786"
            ],
            [
             0.5555555555555556,
             "#d8576b"
            ],
            [
             0.6666666666666666,
             "#ed7953"
            ],
            [
             0.7777777777777778,
             "#fb9f3a"
            ],
            [
             0.8888888888888888,
             "#fdca26"
            ],
            [
             1,
             "#f0f921"
            ]
           ],
           "sequentialminus": [
            [
             0,
             "#0d0887"
            ],
            [
             0.1111111111111111,
             "#46039f"
            ],
            [
             0.2222222222222222,
             "#7201a8"
            ],
            [
             0.3333333333333333,
             "#9c179e"
            ],
            [
             0.4444444444444444,
             "#bd3786"
            ],
            [
             0.5555555555555556,
             "#d8576b"
            ],
            [
             0.6666666666666666,
             "#ed7953"
            ],
            [
             0.7777777777777778,
             "#fb9f3a"
            ],
            [
             0.8888888888888888,
             "#fdca26"
            ],
            [
             1,
             "#f0f921"
            ]
           ]
          },
          "colorway": [
           "#636efa",
           "#EF553B",
           "#00cc96",
           "#ab63fa",
           "#FFA15A",
           "#19d3f3",
           "#FF6692",
           "#B6E880",
           "#FF97FF",
           "#FECB52"
          ],
          "font": {
           "color": "#2a3f5f"
          },
          "geo": {
           "bgcolor": "white",
           "lakecolor": "white",
           "landcolor": "#E5ECF6",
           "showlakes": true,
           "showland": true,
           "subunitcolor": "white"
          },
          "hoverlabel": {
           "align": "left"
          },
          "hovermode": "closest",
          "mapbox": {
           "style": "light"
          },
          "paper_bgcolor": "white",
          "plot_bgcolor": "#E5ECF6",
          "polar": {
           "angularaxis": {
            "gridcolor": "white",
            "linecolor": "white",
            "ticks": ""
           },
           "bgcolor": "#E5ECF6",
           "radialaxis": {
            "gridcolor": "white",
            "linecolor": "white",
            "ticks": ""
           }
          },
          "scene": {
           "xaxis": {
            "backgroundcolor": "#E5ECF6",
            "gridcolor": "white",
            "gridwidth": 2,
            "linecolor": "white",
            "showbackground": true,
            "ticks": "",
            "zerolinecolor": "white"
           },
           "yaxis": {
            "backgroundcolor": "#E5ECF6",
            "gridcolor": "white",
            "gridwidth": 2,
            "linecolor": "white",
            "showbackground": true,
            "ticks": "",
            "zerolinecolor": "white"
           },
           "zaxis": {
            "backgroundcolor": "#E5ECF6",
            "gridcolor": "white",
            "gridwidth": 2,
            "linecolor": "white",
            "showbackground": true,
            "ticks": "",
            "zerolinecolor": "white"
           }
          },
          "shapedefaults": {
           "line": {
            "color": "#2a3f5f"
           }
          },
          "ternary": {
           "aaxis": {
            "gridcolor": "white",
            "linecolor": "white",
            "ticks": ""
           },
           "baxis": {
            "gridcolor": "white",
            "linecolor": "white",
            "ticks": ""
           },
           "bgcolor": "#E5ECF6",
           "caxis": {
            "gridcolor": "white",
            "linecolor": "white",
            "ticks": ""
           }
          },
          "title": {
           "x": 0.05
          },
          "xaxis": {
           "automargin": true,
           "gridcolor": "white",
           "linecolor": "white",
           "ticks": "",
           "title": {
            "standoff": 15
           },
           "zerolinecolor": "white",
           "zerolinewidth": 2
          },
          "yaxis": {
           "automargin": true,
           "gridcolor": "white",
           "linecolor": "white",
           "ticks": "",
           "title": {
            "standoff": 15
           },
           "zerolinecolor": "white",
           "zerolinewidth": 2
          }
         }
        },
        "title": {
         "text": "Random Walk"
        },
        "xaxis": {
         "anchor": "y",
         "autorange": true,
         "domain": [
          0,
          1
         ],
         "range": [
          0,
          56.09801843022482
         ],
         "title": {
          "text": "X"
         },
         "type": "linear"
        },
        "yaxis": {
         "anchor": "x",
         "autorange": true,
         "domain": [
          0,
          1
         ],
         "range": [
          -2.6466140485772374,
          5.895387191937992
         ],
         "title": {
          "text": "Y"
         },
         "type": "linear"
        }
       }
      },
      "text/html": [
       "<div>                            <div id=\"c432f478-1c09-44f1-ad85-b3eb65a2474f\" class=\"plotly-graph-div\" style=\"height:525px; width:100%;\"></div>            <script type=\"text/javascript\">                require([\"plotly\"], function(Plotly) {                    window.PLOTLYENV=window.PLOTLYENV || {};                                    if (document.getElementById(\"c432f478-1c09-44f1-ad85-b3eb65a2474f\")) {                    Plotly.newPlot(                        \"c432f478-1c09-44f1-ad85-b3eb65a2474f\",                        [{\"hovertemplate\":\"x=%{x}\\u003cbr\\u003ey=%{y}\\u003cextra\\u003e\\u003c\\u002fextra\\u003e\",\"legendgroup\":\"\",\"line\":{\"color\":\"#636efa\",\"dash\":\"solid\"},\"marker\":{\"symbol\":\"circle\"},\"mode\":\"lines\",\"name\":\"\",\"orientation\":\"v\",\"showlegend\":false,\"x\":[0.0,0.5588616072296573,1.2194737387057606,2.215941717110299,2.9185528416269975,3.8852518302104673,4.467863796617396,4.723890591223338,5.5286087487555715,6.525096345152049,5.6943008556332755,6.466130121168835,7.3812598561137355,7.710249620238564,8.70762054578582,9.380037158253517,10.377054491395597,10.260025086365122,10.628620022253347,11.400702577105825,12.382275346306175,13.286546738460004,14.281787310834604,13.764659558913833,14.724125121991074,15.67077355833033,16.666285271034766,16.878914634072974,17.873329159709037,16.922450810149698,15.925799335494652,16.649114163003464,17.649037438502685,17.505489433205263,16.780629925641904,17.624305333034357,18.474892140568596,19.29822528353294,20.292448871783332,19.945291361343646,20.945129674824113,21.94114804982468,21.680241193675332,21.111015981652,22.11094843481012,22.301228515187397,23.06892893386094,24.06872652909679,24.89723866432858,25.726715929263822,26.42522115514295,27.175903684238616,28.162950269416232,29.13381682609855,30.12886160590158,29.553028812649575,30.51430010709448,31.493382044575103,30.866666410104237,31.789104527120234,32.746998116774606,33.74618356694452,34.28002126775369,35.176669751372614,36.08782212762976,37.071023063242095,38.06840678860385,37.86964386285648,38.79238528874921,39.649631495256145,38.941381096913204,39.5556219734304,40.55063169431937,41.03064640471654,41.24497619428851,40.87397028859186,41.80657656508179,42.25290016051002,43.230239372118774,44.21868909345796,43.82626916798941,44.68728896081136,45.665636839831485,46.66316088800627,47.56340383072752,47.22345791264632,48.16579520375549,49.023647335664165,50.01624406761222,49.93930811006103,50.76123672006404,51.746914178377224,52.60390940833073,53.60319804407097,54.59439668813291,54.03826280755963,53.48202834940803,54.39057959497338,55.389214027587165,56.09801843022482],\"xaxis\":\"x\",\"y\":[0.0,0.8292609384052069,1.5799883268403163,1.4960147118510119,0.7844406765564542,1.0403568063171558,0.22760635470273094,1.1942760399850445,1.7879330848669581,1.8716735782257305,2.4282513846421034,3.0640812241926234,3.4672407065562107,2.522907219327737,2.5953726377906805,1.855199753068829,1.932377712450082,2.925506162530037,3.855096272867682,3.2195740242465414,3.0284853046308706,2.6015271692918454,2.6989756331046575,3.554883857269707,3.2730579655051786,3.5953260805529457,3.500687664102337,2.523554738664878,2.629099758462144,2.9386645567505,3.020431530938869,3.7109499306255804,3.7233371464107954,4.712980501450949,4.0240837789337025,3.48723016111859,2.961395507592681,3.52895390608261,3.636282637401474,4.5740894740929745,4.592071323178549,4.502923150672139,5.46828712991223,4.646105484533917,4.657728269104794,3.67599842285807,3.035189506590146,3.0150706457722234,2.455099537791052,1.8965590585457694,2.6121640120079057,1.9515009053411752,1.791066997799136,2.0306878005601305,2.130115594394353,2.947683080425686,2.6720792007791623,2.468612840662331,1.6893647970268157,1.3032198497906962,1.5903432917090785,1.6306971783714295,0.7851102170275505,1.227853366973291,1.639922957262311,1.4573964654562797,1.3851074318239172,2.36515503237623,2.7505746231360306,3.2654813539421736,3.9714426653800343,3.182324077577548,3.2821021079071238,2.404841668925449,1.4280803156246367,0.4994498089438537,0.8603452689479871,1.7552169067620458,1.966896063629189,2.1184452252384975,1.1986590532967474,1.7072304999675696,1.5002632860982834,1.4299370938723506,0.9945491701990276,0.054104183620904966,-0.28056046910629767,0.23333613506592626,0.3547928258080995,-0.6422432108704554,-1.2118337305058446,-1.043192252294626,-1.5585165927220312,-1.520804227635788,-1.3884212679703851,-2.2195139865514757,-1.3884885792594979,-0.9707151548035458,-1.0229575705032328,-0.31755249623633774],\"yaxis\":\"y\",\"type\":\"scatter\"}],                        {\"template\":{\"data\":{\"histogram2dcontour\":[{\"type\":\"histogram2dcontour\",\"colorbar\":{\"outlinewidth\":0,\"ticks\":\"\"},\"colorscale\":[[0.0,\"#0d0887\"],[0.1111111111111111,\"#46039f\"],[0.2222222222222222,\"#7201a8\"],[0.3333333333333333,\"#9c179e\"],[0.4444444444444444,\"#bd3786\"],[0.5555555555555556,\"#d8576b\"],[0.6666666666666666,\"#ed7953\"],[0.7777777777777778,\"#fb9f3a\"],[0.8888888888888888,\"#fdca26\"],[1.0,\"#f0f921\"]]}],\"choropleth\":[{\"type\":\"choropleth\",\"colorbar\":{\"outlinewidth\":0,\"ticks\":\"\"}}],\"histogram2d\":[{\"type\":\"histogram2d\",\"colorbar\":{\"outlinewidth\":0,\"ticks\":\"\"},\"colorscale\":[[0.0,\"#0d0887\"],[0.1111111111111111,\"#46039f\"],[0.2222222222222222,\"#7201a8\"],[0.3333333333333333,\"#9c179e\"],[0.4444444444444444,\"#bd3786\"],[0.5555555555555556,\"#d8576b\"],[0.6666666666666666,\"#ed7953\"],[0.7777777777777778,\"#fb9f3a\"],[0.8888888888888888,\"#fdca26\"],[1.0,\"#f0f921\"]]}],\"heatmap\":[{\"type\":\"heatmap\",\"colorbar\":{\"outlinewidth\":0,\"ticks\":\"\"},\"colorscale\":[[0.0,\"#0d0887\"],[0.1111111111111111,\"#46039f\"],[0.2222222222222222,\"#7201a8\"],[0.3333333333333333,\"#9c179e\"],[0.4444444444444444,\"#bd3786\"],[0.5555555555555556,\"#d8576b\"],[0.6666666666666666,\"#ed7953\"],[0.7777777777777778,\"#fb9f3a\"],[0.8888888888888888,\"#fdca26\"],[1.0,\"#f0f921\"]]}],\"heatmapgl\":[{\"type\":\"heatmapgl\",\"colorbar\":{\"outlinewidth\":0,\"ticks\":\"\"},\"colorscale\":[[0.0,\"#0d0887\"],[0.1111111111111111,\"#46039f\"],[0.2222222222222222,\"#7201a8\"],[0.3333333333333333,\"#9c179e\"],[0.4444444444444444,\"#bd3786\"],[0.5555555555555556,\"#d8576b\"],[0.6666666666666666,\"#ed7953\"],[0.7777777777777778,\"#fb9f3a\"],[0.8888888888888888,\"#fdca26\"],[1.0,\"#f0f921\"]]}],\"contourcarpet\":[{\"type\":\"contourcarpet\",\"colorbar\":{\"outlinewidth\":0,\"ticks\":\"\"}}],\"contour\":[{\"type\":\"contour\",\"colorbar\":{\"outlinewidth\":0,\"ticks\":\"\"},\"colorscale\":[[0.0,\"#0d0887\"],[0.1111111111111111,\"#46039f\"],[0.2222222222222222,\"#7201a8\"],[0.3333333333333333,\"#9c179e\"],[0.4444444444444444,\"#bd3786\"],[0.5555555555555556,\"#d8576b\"],[0.6666666666666666,\"#ed7953\"],[0.7777777777777778,\"#fb9f3a\"],[0.8888888888888888,\"#fdca26\"],[1.0,\"#f0f921\"]]}],\"surface\":[{\"type\":\"surface\",\"colorbar\":{\"outlinewidth\":0,\"ticks\":\"\"},\"colorscale\":[[0.0,\"#0d0887\"],[0.1111111111111111,\"#46039f\"],[0.2222222222222222,\"#7201a8\"],[0.3333333333333333,\"#9c179e\"],[0.4444444444444444,\"#bd3786\"],[0.5555555555555556,\"#d8576b\"],[0.6666666666666666,\"#ed7953\"],[0.7777777777777778,\"#fb9f3a\"],[0.8888888888888888,\"#fdca26\"],[1.0,\"#f0f921\"]]}],\"mesh3d\":[{\"type\":\"mesh3d\",\"colorbar\":{\"outlinewidth\":0,\"ticks\":\"\"}}],\"scatter\":[{\"fillpattern\":{\"fillmode\":\"overlay\",\"size\":10,\"solidity\":0.2},\"type\":\"scatter\"}],\"parcoords\":[{\"type\":\"parcoords\",\"line\":{\"colorbar\":{\"outlinewidth\":0,\"ticks\":\"\"}}}],\"scatterpolargl\":[{\"type\":\"scatterpolargl\",\"marker\":{\"colorbar\":{\"outlinewidth\":0,\"ticks\":\"\"}}}],\"bar\":[{\"error_x\":{\"color\":\"#2a3f5f\"},\"error_y\":{\"color\":\"#2a3f5f\"},\"marker\":{\"line\":{\"color\":\"#E5ECF6\",\"width\":0.5},\"pattern\":{\"fillmode\":\"overlay\",\"size\":10,\"solidity\":0.2}},\"type\":\"bar\"}],\"scattergeo\":[{\"type\":\"scattergeo\",\"marker\":{\"colorbar\":{\"outlinewidth\":0,\"ticks\":\"\"}}}],\"scatterpolar\":[{\"type\":\"scatterpolar\",\"marker\":{\"colorbar\":{\"outlinewidth\":0,\"ticks\":\"\"}}}],\"histogram\":[{\"marker\":{\"pattern\":{\"fillmode\":\"overlay\",\"size\":10,\"solidity\":0.2}},\"type\":\"histogram\"}],\"scattergl\":[{\"type\":\"scattergl\",\"marker\":{\"colorbar\":{\"outlinewidth\":0,\"ticks\":\"\"}}}],\"scatter3d\":[{\"type\":\"scatter3d\",\"line\":{\"colorbar\":{\"outlinewidth\":0,\"ticks\":\"\"}},\"marker\":{\"colorbar\":{\"outlinewidth\":0,\"ticks\":\"\"}}}],\"scattermapbox\":[{\"type\":\"scattermapbox\",\"marker\":{\"colorbar\":{\"outlinewidth\":0,\"ticks\":\"\"}}}],\"scatterternary\":[{\"type\":\"scatterternary\",\"marker\":{\"colorbar\":{\"outlinewidth\":0,\"ticks\":\"\"}}}],\"scattercarpet\":[{\"type\":\"scattercarpet\",\"marker\":{\"colorbar\":{\"outlinewidth\":0,\"ticks\":\"\"}}}],\"carpet\":[{\"aaxis\":{\"endlinecolor\":\"#2a3f5f\",\"gridcolor\":\"white\",\"linecolor\":\"white\",\"minorgridcolor\":\"white\",\"startlinecolor\":\"#2a3f5f\"},\"baxis\":{\"endlinecolor\":\"#2a3f5f\",\"gridcolor\":\"white\",\"linecolor\":\"white\",\"minorgridcolor\":\"white\",\"startlinecolor\":\"#2a3f5f\"},\"type\":\"carpet\"}],\"table\":[{\"cells\":{\"fill\":{\"color\":\"#EBF0F8\"},\"line\":{\"color\":\"white\"}},\"header\":{\"fill\":{\"color\":\"#C8D4E3\"},\"line\":{\"color\":\"white\"}},\"type\":\"table\"}],\"barpolar\":[{\"marker\":{\"line\":{\"color\":\"#E5ECF6\",\"width\":0.5},\"pattern\":{\"fillmode\":\"overlay\",\"size\":10,\"solidity\":0.2}},\"type\":\"barpolar\"}],\"pie\":[{\"automargin\":true,\"type\":\"pie\"}]},\"layout\":{\"autotypenumbers\":\"strict\",\"colorway\":[\"#636efa\",\"#EF553B\",\"#00cc96\",\"#ab63fa\",\"#FFA15A\",\"#19d3f3\",\"#FF6692\",\"#B6E880\",\"#FF97FF\",\"#FECB52\"],\"font\":{\"color\":\"#2a3f5f\"},\"hovermode\":\"closest\",\"hoverlabel\":{\"align\":\"left\"},\"paper_bgcolor\":\"white\",\"plot_bgcolor\":\"#E5ECF6\",\"polar\":{\"bgcolor\":\"#E5ECF6\",\"angularaxis\":{\"gridcolor\":\"white\",\"linecolor\":\"white\",\"ticks\":\"\"},\"radialaxis\":{\"gridcolor\":\"white\",\"linecolor\":\"white\",\"ticks\":\"\"}},\"ternary\":{\"bgcolor\":\"#E5ECF6\",\"aaxis\":{\"gridcolor\":\"white\",\"linecolor\":\"white\",\"ticks\":\"\"},\"baxis\":{\"gridcolor\":\"white\",\"linecolor\":\"white\",\"ticks\":\"\"},\"caxis\":{\"gridcolor\":\"white\",\"linecolor\":\"white\",\"ticks\":\"\"}},\"coloraxis\":{\"colorbar\":{\"outlinewidth\":0,\"ticks\":\"\"}},\"colorscale\":{\"sequential\":[[0.0,\"#0d0887\"],[0.1111111111111111,\"#46039f\"],[0.2222222222222222,\"#7201a8\"],[0.3333333333333333,\"#9c179e\"],[0.4444444444444444,\"#bd3786\"],[0.5555555555555556,\"#d8576b\"],[0.6666666666666666,\"#ed7953\"],[0.7777777777777778,\"#fb9f3a\"],[0.8888888888888888,\"#fdca26\"],[1.0,\"#f0f921\"]],\"sequentialminus\":[[0.0,\"#0d0887\"],[0.1111111111111111,\"#46039f\"],[0.2222222222222222,\"#7201a8\"],[0.3333333333333333,\"#9c179e\"],[0.4444444444444444,\"#bd3786\"],[0.5555555555555556,\"#d8576b\"],[0.6666666666666666,\"#ed7953\"],[0.7777777777777778,\"#fb9f3a\"],[0.8888888888888888,\"#fdca26\"],[1.0,\"#f0f921\"]],\"diverging\":[[0,\"#8e0152\"],[0.1,\"#c51b7d\"],[0.2,\"#de77ae\"],[0.3,\"#f1b6da\"],[0.4,\"#fde0ef\"],[0.5,\"#f7f7f7\"],[0.6,\"#e6f5d0\"],[0.7,\"#b8e186\"],[0.8,\"#7fbc41\"],[0.9,\"#4d9221\"],[1,\"#276419\"]]},\"xaxis\":{\"gridcolor\":\"white\",\"linecolor\":\"white\",\"ticks\":\"\",\"title\":{\"standoff\":15},\"zerolinecolor\":\"white\",\"automargin\":true,\"zerolinewidth\":2},\"yaxis\":{\"gridcolor\":\"white\",\"linecolor\":\"white\",\"ticks\":\"\",\"title\":{\"standoff\":15},\"zerolinecolor\":\"white\",\"automargin\":true,\"zerolinewidth\":2},\"scene\":{\"xaxis\":{\"backgroundcolor\":\"#E5ECF6\",\"gridcolor\":\"white\",\"linecolor\":\"white\",\"showbackground\":true,\"ticks\":\"\",\"zerolinecolor\":\"white\",\"gridwidth\":2},\"yaxis\":{\"backgroundcolor\":\"#E5ECF6\",\"gridcolor\":\"white\",\"linecolor\":\"white\",\"showbackground\":true,\"ticks\":\"\",\"zerolinecolor\":\"white\",\"gridwidth\":2},\"zaxis\":{\"backgroundcolor\":\"#E5ECF6\",\"gridcolor\":\"white\",\"linecolor\":\"white\",\"showbackground\":true,\"ticks\":\"\",\"zerolinecolor\":\"white\",\"gridwidth\":2}},\"shapedefaults\":{\"line\":{\"color\":\"#2a3f5f\"}},\"annotationdefaults\":{\"arrowcolor\":\"#2a3f5f\",\"arrowhead\":0,\"arrowwidth\":1},\"geo\":{\"bgcolor\":\"white\",\"landcolor\":\"#E5ECF6\",\"subunitcolor\":\"white\",\"showland\":true,\"showlakes\":true,\"lakecolor\":\"white\"},\"title\":{\"x\":0.05},\"mapbox\":{\"style\":\"light\"}}},\"xaxis\":{\"anchor\":\"y\",\"domain\":[0.0,1.0],\"title\":{\"text\":\"X\"}},\"yaxis\":{\"anchor\":\"x\",\"domain\":[0.0,1.0],\"title\":{\"text\":\"Y\"}},\"legend\":{\"tracegroupgap\":0},\"margin\":{\"t\":60},\"title\":{\"text\":\"Random Walk\"}},                        {\"responsive\": true}                    ).then(function(){\n",
       "                            \n",
       "var gd = document.getElementById('c432f478-1c09-44f1-ad85-b3eb65a2474f');\n",
       "var x = new MutationObserver(function (mutations, observer) {{\n",
       "        var display = window.getComputedStyle(gd).display;\n",
       "        if (!display || display === 'none') {{\n",
       "            console.log([gd, 'removed!']);\n",
       "            Plotly.purge(gd);\n",
       "            observer.disconnect();\n",
       "        }}\n",
       "}});\n",
       "\n",
       "// Listen for the removal of the full notebook cells\n",
       "var notebookContainer = gd.closest('#notebook-container');\n",
       "if (notebookContainer) {{\n",
       "    x.observe(notebookContainer, {childList: true});\n",
       "}}\n",
       "\n",
       "// Listen for the clearing of the current output cell\n",
       "var outputEl = gd.closest('.output');\n",
       "if (outputEl) {{\n",
       "    x.observe(outputEl, {childList: true});\n",
       "}}\n",
       "\n",
       "                        })                };                });            </script>        </div>"
      ]
     },
     "metadata": {},
     "output_type": "display_data"
    }
   ],
   "source": [
    "fig = px.line(x=traj[:, 0], y=traj[:, 1])\n",
    "fig.update_layout(title=\"Random Walk\", xaxis_title=\"X\", yaxis_title=\"Y\")\n",
    "fig.show()"
   ]
  },
  {
   "cell_type": "markdown",
   "id": "779c85c3-06e9-41cb-9d88-669d2939f200",
   "metadata": {},
   "source": [
    "## References\n",
    "*  Random walks. (n.d.). https://www.mit.edu/~kardar/teaching/projects/chemotaxis(AndreaSchmidt)/random.htm\n",
    "*  Wikipedia contributors. (2024, August 3). Cauchy distribution. Wikipedia. https://en.wikipedia.org/wiki/Cauchy_distribution"
   ]
  },
  {
   "cell_type": "markdown",
   "id": "cc86906b-3b88-43c5-be23-1261a8e2af3b",
   "metadata": {},
   "source": [
    "# Activity 2: Lévy distribution - N different curves\n",
    "- Plot at least the 4 different curves shown in the figure using plotly.\n",
    "- Each one of the curves corresponds to a different alpha value.\n",
    "- Consider the following parameters: m = 3.0, beta = 0."
   ]
  },
  {
   "cell_type": "markdown",
   "id": "2202be50-8e71-4e14-897a-b40b07a00d0e",
   "metadata": {},
   "source": [
    "## What is the levy function\n",
    "\n",
    " The stable distribution also referred to as **the Lévy alpha-stable distribution** in [Paul Lévy](https://es.wikipedia.org/wiki/Paul_Pierre_L%C3%A9vy), so what is the characteristic function?\n",
    "\n",
    "**Function  φ(t, α, β, c, μ):**\n",
    "\n",
    "$$ \\phi(t, \\alpha, \\beta, c, \\mu) = e^{i t \\mu - |c t|^\\alpha \\left(1 - i \\beta \\, \\text{sgn}(t) \\Phi(\\alpha, t)\\right)} $$\n",
    "\n",
    "Where:\n",
    "$$\n",
    "\\Phi(\\alpha, t) =\n",
    "\\begin{cases}\n",
    "\\tan\\left(\\frac{\\pi}{2 \\alpha}\\right) & \\text{si } \\alpha \\neq 1 \\\\\n",
    "-\\frac{2 \\pi}{\\ln |t|} & \\text{si } \\alpha = 1\n",
    "\\end{cases} $$\n",
    "**Fourier Transform f(x):**\n",
    "\n",
    "$$ f(x) = \\frac{1}{2 \\pi} \\int_{-\\infty}^{\\infty} \\phi(t) e^{-i x t} \\, dt $$\n"
   ]
  },
  {
   "cell_type": "markdown",
   "id": "4dcda97b-c544-4974-9ffd-cdbbcc900af4",
   "metadata": {},
   "source": [
    "1. **α (Stability Parameter `curves`):**\n",
    "   - Determines the curves behavior of the distribution.\n",
    "   - When *$\\alpha > 2$ the curves they can be very low or undetectable*\n",
    "\n",
    "2. **β (Skewness Parameter `beta`):**\n",
    "   - Controls the asymmetry of the distribution.\n",
    "   - When $\\beta = 0$, *the distribution is symmetric.*\n",
    "  \n",
    "3. **c (Scale Parameter `c` ):**\n",
    "   - Adjusts the dispersion of the distribution.\n",
    "\n",
    "4. **μ (Location Parameterm `m` ):**\n",
    "   - Shifts the distribution along the x-axis."
   ]
  },
  {
   "cell_type": "markdown",
   "id": "9c77c5e5-1584-4f74-9249-a84efc404b1a",
   "metadata": {},
   "source": [
    "## Note:\n",
    "\n",
    " We use the `scipy.stats import levy_stable` because the `levy_stable.pdf` function is part of the scipy.stats library, which is part of the Python scientific library scipy.\n",
    "\n",
    "The [levy_stable.pdf](https://docs.scipy.org/doc/scipy/reference/generated/scipy.stats.levy_stable.html#scipy-stats-levy-stable) function is used to calculate the probability density function (PDF) of the Lévy distribution, which is a continuous probability distribution used to model phenomena that exhibit heavy-tailed behaviors."
   ]
  },
  {
   "cell_type": "markdown",
   "id": "5007ba29-b0ab-4a16-8f2c-fab960119483",
   "metadata": {},
   "source": [
    "## References\n",
    "- Library used: `scipy.stats.levy_stable`\n",
    "https://docs.scipy.org/doc/scipy/reference/generated/scipy.stats.levy_stable.html#scipy-stats-levy-stable\n",
    "\n",
    "- Teory:\n",
    "https://en.wikipedia.org/wiki/Stable_distribution"
   ]
  },
  {
   "cell_type": "code",
   "execution_count": null,
   "id": "3a20cea2-db76-4b4e-bf5a-0ab7cd6fc7ed",
   "metadata": {},
   "outputs": [],
   "source": []
  }
 ],
 "metadata": {
  "kernelspec": {
   "display_name": "Python 3 (ipykernel)",
   "language": "python",
   "name": "python3"
  },
  "language_info": {
   "codemirror_mode": {
    "name": "ipython",
    "version": 3
   },
   "file_extension": ".py",
   "mimetype": "text/x-python",
   "name": "python",
   "nbconvert_exporter": "python",
   "pygments_lexer": "ipython3",
   "version": "3.12.5"
  }
 },
 "nbformat": 4,
 "nbformat_minor": 5
}
