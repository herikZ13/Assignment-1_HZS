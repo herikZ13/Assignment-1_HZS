{
 "cells": [
  {
   "cell_type": "markdown",
   "id": "9fef5136-9635-41f0-a897-778f86106b65",
   "metadata": {},
   "source": [
    "# Assignment 1\n",
    "\n",
    "**Name:** Heriberto Zapata Solano\n",
    "\n",
    "**e-mail:** heriberto.zapata7939@alumnos.udg.mx"
   ]
  },
  {
   "cell_type": "markdown",
   "id": "6a50287f-3ecb-4661-9ca3-5569f813138d",
   "metadata": {},
   "source": [
    "# Modules\n",
    "Here are all the libraries used during this activity\n"
   ]
  },
  {
   "cell_type": "code",
   "execution_count": 1,
   "id": "4bb8341e-3fee-4aa3-9363-3b916680c269",
   "metadata": {},
   "outputs": [],
   "source": [
    "import numpy as np\n",
    "from scipy.stats import cauchy, levy_stable\n",
    "import matplotlib.pyplot as plt\n",
    "import pandas as pd\n",
    "import plotly.graph_objects as go\n",
    "import plotly.express as px\n"
   ]
  },
  {
   "cell_type": "code",
   "execution_count": null,
   "id": "b3bb2d4e-135d-4c6f-b940-fe34be2f3d1d",
   "metadata": {},
   "outputs": [],
   "source": []
  }
 ],
 "metadata": {
  "kernelspec": {
   "display_name": "Python 3 (ipykernel)",
   "language": "python",
   "name": "python3"
  },
  "language_info": {
   "codemirror_mode": {
    "name": "ipython",
    "version": 3
   },
   "file_extension": ".py",
   "mimetype": "text/x-python",
   "name": "python",
   "nbconvert_exporter": "python",
   "pygments_lexer": "ipython3",
   "version": "3.12.5"
  }
 },
 "nbformat": 4,
 "nbformat_minor": 5
}
