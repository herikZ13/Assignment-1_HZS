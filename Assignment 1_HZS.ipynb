{
 "cells": [
  {
   "cell_type": "markdown",
   "id": "9fef5136-9635-41f0-a897-778f86106b65",
   "metadata": {},
   "source": [
    "# Assignment 1\n",
    "\n",
    "**Name:** Heriberto Zapata Solano\n",
    "\n",
    "**e-mail:** heriberto.zapata7939@alumnos.udg.mx"
   ]
  }
 ],
 "metadata": {
  "kernelspec": {
   "display_name": "Python 3 (ipykernel)",
   "language": "python",
   "name": "python3"
  },
  "language_info": {
   "codemirror_mode": {
    "name": "ipython",
    "version": 3
   },
   "file_extension": ".py",
   "mimetype": "text/x-python",
   "name": "python",
   "nbconvert_exporter": "python",
   "pygments_lexer": "ipython3",
   "version": "3.12.5"
  }
 },
 "nbformat": 4,
 "nbformat_minor": 5
}
